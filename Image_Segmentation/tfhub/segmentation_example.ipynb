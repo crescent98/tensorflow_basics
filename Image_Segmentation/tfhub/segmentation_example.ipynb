{
 "cells": [
  {
   "cell_type": "code",
   "execution_count": 1,
   "metadata": {},
   "outputs": [],
   "source": [
    "import sys\n",
    "sys.path.append('/home/shmoon/shmoon/lib/python3.6/site-packages')"
   ]
  },
  {
   "cell_type": "code",
   "execution_count": 2,
   "metadata": {},
   "outputs": [],
   "source": [
    "import tensorflow as tf\n",
    "import tensorflow_hub as hub"
   ]
  },
  {
   "cell_type": "code",
   "execution_count": 3,
   "metadata": {},
   "outputs": [],
   "source": [
    "import tensorflow_hub as hub\n",
    "m = hub.load(\"https://tfhub.dev/nvidia/unet/industrial/class_1/1\")"
   ]
  },
  {
   "cell_type": "code",
   "execution_count": 4,
   "metadata": {},
   "outputs": [],
   "source": [
    "model = tf.keras.Sequential([\n",
    "    hub.KerasLayer(\"https://tfhub.dev/nvidia/unet/industrial/class_1/1\")\n",
    "])"
   ]
  },
  {
   "cell_type": "code",
   "execution_count": 5,
   "metadata": {},
   "outputs": [],
   "source": [
    "# Load a test image\n",
    "import numpy as np\n",
    "import matplotlib.image as mpimg\n",
    "\n",
    "img = mpimg.imread('data/1.png')"
   ]
  },
  {
   "cell_type": "code",
   "execution_count": 6,
   "metadata": {},
   "outputs": [],
   "source": [
    "# Image preprocessing\n",
    "img =  np.expand_dims(img, axis=2)\n",
    "img =  np.expand_dims(img, axis=0)\n",
    "img = (img-0.5)/0.5"
   ]
  },
  {
   "cell_type": "code",
   "execution_count": 7,
   "metadata": {},
   "outputs": [],
   "source": [
    "output = model(img)"
   ]
  },
  {
   "cell_type": "code",
   "execution_count": 14,
   "metadata": {},
   "outputs": [
    {
     "data": {
      "text/plain": [
       "<tf.Tensor: shape=(1, 512, 512, 1), dtype=float32, numpy=\n",
       "array([[[[1.62292621e-03],\n",
       "         [7.83944051e-06],\n",
       "         [1.75400245e-07],\n",
       "         ...,\n",
       "         [4.17688248e-08],\n",
       "         [2.00739350e-06],\n",
       "         [3.27176997e-04]],\n",
       "\n",
       "        [[2.21041992e-05],\n",
       "         [6.82939927e-10],\n",
       "         [1.16740667e-12],\n",
       "         ...,\n",
       "         [1.06418895e-13],\n",
       "         [1.13733467e-10],\n",
       "         [9.02675367e-07]],\n",
       "\n",
       "        [[9.69352300e-07],\n",
       "         [2.54532680e-12],\n",
       "         [5.23646515e-16],\n",
       "         ...,\n",
       "         [9.60018209e-18],\n",
       "         [1.27409259e-13],\n",
       "         [1.88690681e-08]],\n",
       "\n",
       "        ...,\n",
       "\n",
       "        [[4.00388807e-08],\n",
       "         [1.06013405e-15],\n",
       "         [7.98469690e-21],\n",
       "         ...,\n",
       "         [3.28477367e-28],\n",
       "         [1.19477778e-21],\n",
       "         [2.03824018e-13]],\n",
       "\n",
       "        [[1.55741850e-06],\n",
       "         [1.24719766e-12],\n",
       "         [1.22634714e-16],\n",
       "         ...,\n",
       "         [6.17560252e-22],\n",
       "         [1.64401644e-16],\n",
       "         [2.66739575e-10]],\n",
       "\n",
       "        [[8.24938703e-04],\n",
       "         [8.90685612e-07],\n",
       "         [3.48882945e-09],\n",
       "         ...,\n",
       "         [2.51624372e-12],\n",
       "         [3.10353809e-09],\n",
       "         [4.29953070e-06]]]], dtype=float32)>"
      ]
     },
     "execution_count": 14,
     "metadata": {},
     "output_type": "execute_result"
    }
   ],
   "source": [
    "output"
   ]
  }
 ],
 "metadata": {
  "kernelspec": {
   "display_name": "Python 3",
   "language": "python",
   "name": "python3"
  },
  "language_info": {
   "codemirror_mode": {
    "name": "ipython",
    "version": 3
   },
   "file_extension": ".py",
   "mimetype": "text/x-python",
   "name": "python",
   "nbconvert_exporter": "python",
   "pygments_lexer": "ipython3",
   "version": "3.6.9"
  }
 },
 "nbformat": 4,
 "nbformat_minor": 4
}
